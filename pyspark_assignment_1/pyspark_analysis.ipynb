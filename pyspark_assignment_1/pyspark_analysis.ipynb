{
 "cells": [
  {
   "cell_type": "code",
   "execution_count": 163,
   "id": "167f8de1-7b77-4e5f-9ea9-edf51cfeb81e",
   "metadata": {},
   "outputs": [],
   "source": [
    "from pyspark.sql import SparkSession\n",
    "from pyspark.sql.types import *\n",
    "from pyspark.sql.functions import *"
   ]
  },
  {
   "cell_type": "markdown",
   "id": "e2ea2a0e-30ed-4a95-81a6-d10d9fc371e5",
   "metadata": {},
   "source": [
    "# Creating spark session and loading data from hdfs"
   ]
  },
  {
   "cell_type": "code",
   "execution_count": 164,
   "id": "b4dc52f5-49fc-4c96-aa3f-5e587bce1b91",
   "metadata": {},
   "outputs": [
    {
     "name": "stdout",
     "output_type": "stream",
     "text": [
      "root\n",
      " |-- campaign_id: string (nullable = true)\n",
      " |-- campaign_name: string (nullable = true)\n",
      " |-- campaign_country: string (nullable = true)\n",
      " |-- os_type: string (nullable = true)\n",
      " |-- device_type: string (nullable = true)\n",
      " |-- place_id: string (nullable = true)\n",
      " |-- user_id: string (nullable = true)\n",
      " |-- event_type: string (nullable = true)\n",
      " |-- event_time: timestamp (nullable = true)\n",
      "\n",
      "+-----------+--------------------+----------------+-------+-----------+---------+-------------------+----------+-------------------+\n",
      "|campaign_id|       campaign_name|campaign_country|os_type|device_type| place_id|            user_id|event_type|         event_time|\n",
      "+-----------+--------------------+----------------+-------+-----------+---------+-------------------+----------+-------------------+\n",
      "|    ABCDFAE|Food category tar...|             USA|    ios|      apple|CASSBB-11|1264374214654454321|impression|2018-10-12 13:10:05|\n",
      "|    ABCDFAE|Food category tar...|             USA|android|   MOTOROLA|CADGBD-13|1674374214654454321|impression|2018-10-12 13:09:04|\n",
      "|    ABCDFAE|Food category tar...|             USA|android|    SAMSUNG|BADGBA-12|   5747421465445443|  video ad|2018-10-12 13:10:10|\n",
      "|    ABCDFAE|Food category tar...|             USA|android|    SAMSUNG|CASSBB-11|1864374214654454132|     click|2018-10-12 13:10:12|\n",
      "+-----------+--------------------+----------------+-------+-----------+---------+-------------------+----------+-------------------+\n",
      "\n"
     ]
    }
   ],
   "source": [
    "# Create spark session\n",
    "spark = SparkSession.builder \\\n",
    "        .appName(\"Market Campaign Analysis\") \\\n",
    "        .enableHiveSupport() \\\n",
    "        .getOrCreate()\n",
    "\n",
    "# Define schema\n",
    "schema = StructType([\n",
    "    StructField(\"campaign_id\", StringType(), True),\n",
    "    StructField(\"campaign_name\", StringType(), True),\n",
    "    StructField(\"campaign_country\", StringType(), True),\n",
    "    StructField(\"os_type\", StringType(), True),\n",
    "    StructField(\"device_type\", StringType(), True),\n",
    "    StructField(\"place_id\", StringType(), True),\n",
    "    StructField(\"user_id\", StringType(), True),\n",
    "    StructField(\"event_type\", StringType(), True),\n",
    "    StructField(\"event_time\", TimestampType(), True)\n",
    "])\n",
    "\n",
    "# using external schema to create spark ad camapigns dataframe \n",
    "hdfs_path = \"/input_data/ad_campaigns_data.json\"\n",
    "ad_campaigns_df = spark.read.format('json').option('multiline', 'true').option('inferSchema', 'false').schema(schema).load(hdfs_path)\n",
    "\n",
    "# print schema\n",
    "ad_campaigns_df.printSchema()\n",
    "\n",
    "# print data\n",
    "ad_campaigns_df.show()"
   ]
  },
  {
   "cell_type": "code",
   "execution_count": 165,
   "id": "a87eb424-cf2a-4888-bb26-607b849c90bd",
   "metadata": {},
   "outputs": [
    {
     "name": "stdout",
     "output_type": "stream",
     "text": [
      "root\n",
      " |-- age_group: string (nullable = true)\n",
      " |-- category: array (nullable = true)\n",
      " |    |-- element: string (containsNull = true)\n",
      " |-- country: string (nullable = true)\n",
      " |-- gender: string (nullable = true)\n",
      " |-- user_id: string (nullable = true)\n",
      "\n",
      "+---------+--------------------+-------+------+-------------------+\n",
      "|age_group|            category|country|gender|            user_id|\n",
      "+---------+--------------------+-------+------+-------------------+\n",
      "|    18-25|  [shopper, student]|    USA|  male|1264374214654454321|\n",
      "|    25-50|            [parent]|    USA|female|1674374214654454321|\n",
      "|    25-50|[shopper, parent,...|    USA|  male|   5747421465445443|\n",
      "|      50+|      [professional]|    USA|  male|1864374214654454132|\n",
      "|    18-25|  [shopper, student]|    USA|female|  14537421465445443|\n",
      "|      50+|[shopper, profess...|    USA|female|  25547421465445443|\n",
      "+---------+--------------------+-------+------+-------------------+\n",
      "\n"
     ]
    }
   ],
   "source": [
    "# using inferschema utility to create spark users profile dataframe \n",
    "hdfs_path = '/input_data/user_profile_data.json'\n",
    "users_profile_df = spark.read.format('json').option('multiline', 'true').option('inferSchema', 'true').load(hdfs_path)\n",
    "\n",
    "# print schema\n",
    "users_profile_df.printSchema()\n",
    "\n",
    "# print data\n",
    "users_profile_df.show()"
   ]
  },
  {
   "cell_type": "code",
   "execution_count": 166,
   "id": "2a9ff23d-b29b-47f4-8c5c-eebf2d30aebd",
   "metadata": {},
   "outputs": [
    {
     "name": "stdout",
     "output_type": "stream",
     "text": [
      "root\n",
      " |-- place_ids: array (nullable = true)\n",
      " |    |-- element: string (containsNull = true)\n",
      " |-- store_name: string (nullable = true)\n",
      "\n",
      "+--------------------+-------------+\n",
      "|           place_ids|   store_name|\n",
      "+--------------------+-------------+\n",
      "|[CASSBB-11, CADGB...|     McDonald|\n",
      "|         [CASSBB-11]|   BurgerKing|\n",
      "|[BADGBA-13, CASSB...|        Macys|\n",
      "|         [BADGBA-12]|shoppers stop|\n",
      "+--------------------+-------------+\n",
      "\n"
     ]
    }
   ],
   "source": [
    "# using inferschema utility to create stores dataframe\n",
    "hdfs_path = \"/input_data/store_data.json\"\n",
    "stores_df = spark.read.format('json').option('multiline', 'true').option('inferSchema', 'true').load(hdfs_path)\n",
    "\n",
    "# print schema'\n",
    "stores_df.printSchema()\n",
    "\n",
    "# print data\n",
    "stores_df.show()"
   ]
  },
  {
   "cell_type": "markdown",
   "id": "c1e32e34-b6e4-4162-91b2-521bf51f7b44",
   "metadata": {},
   "source": [
    "# Analysis"
   ]
  },
  {
   "cell_type": "markdown",
   "id": "f6753d8b-a9e9-4d58-904b-ff2deeb5c6c3",
   "metadata": {},
   "source": [
    "#### Q1. Analyse data for each campaign_id, date, hour, os_type & value to get all the events with counts"
   ]
  },
  {
   "cell_type": "code",
   "execution_count": 169,
   "id": "e5ca4442-0da4-4d01-a76b-4108038b337c",
   "metadata": {},
   "outputs": [],
   "source": [
    "ad_campaigns_events = ad_campaigns_df \\\n",
    "        .withColumn('date', to_date(col('event_time'))) \\\n",
    "        .withColumn('hour', hour(col('event_time'))) \\\n",
    "        .withColumn('type', lit('os_type')) \\\n",
    "        .withColumn('value', col('os_type')) \\\n",
    "        .groupby('campaign_id', 'date', 'hour', 'type', 'value') \\\n",
    "        .agg(\n",
    "        create_map(\n",
    "            lit('impresssion'), count(when (col('event_type') == 'impression', True)),\n",
    "            lit('click'), count(when (col('event_type') == 'click', True)),\n",
    "            lit('video_ad'), count(when (col('event_type') == 'video_ad', True))\n",
    "            )\n",
    "        .alias('event'))"
   ]
  },
  {
   "cell_type": "code",
   "execution_count": 170,
   "id": "f8fa717c-30a3-455a-8935-567a557e6cf1",
   "metadata": {},
   "outputs": [
    {
     "name": "stdout",
     "output_type": "stream",
     "text": [
      "+-----------+----------+----+-------+-------+---------------------------------------------+\n",
      "|campaign_id|date      |hour|type   |value  |event                                        |\n",
      "+-----------+----------+----+-------+-------+---------------------------------------------+\n",
      "|ABCDFAE    |2018-10-12|13  |os_type|ios    |{impresssion -> 1, click -> 0, video_ad -> 0}|\n",
      "|ABCDFAE    |2018-10-12|13  |os_type|android|{impresssion -> 1, click -> 1, video_ad -> 0}|\n",
      "+-----------+----------+----+-------+-------+---------------------------------------------+\n",
      "\n"
     ]
    }
   ],
   "source": [
    "ad_campaigns_events.show(truncate=False)"
   ]
  },
  {
   "cell_type": "code",
   "execution_count": 179,
   "id": "b5c4ba55-696f-41b6-b9fd-ae2e0569f90e",
   "metadata": {},
   "outputs": [
    {
     "name": "stdout",
     "output_type": "stream",
     "text": [
      "Write Successfull\n"
     ]
    }
   ],
   "source": [
    "# writing output data to hdfs \n",
    "ad_campaigns_events.write.format('json').option('multiline', 'true').save('/output_data/ad')\n",
    "print('Write Successfull')"
   ]
  },
  {
   "cell_type": "markdown",
   "id": "210762f9-607c-4657-8b12-40d9a06cc090",
   "metadata": {},
   "source": [
    "#### Q2.Analyse data for each campaign_id, date, hour, store_name & value to get all the events with counts"
   ]
  },
  {
   "cell_type": "code",
   "execution_count": 226,
   "id": "0c0bbf04-0d65-4107-aacf-e1d5fabb3f33",
   "metadata": {},
   "outputs": [],
   "source": [
    "joined_df = ad_campaigns_df.alias('ad').join(stores_df.alias('stores'), expr('array_contains(stores.place_ids, ad.place_id)'), 'inner') \\\n",
    "        .withColumn('date', to_date(col('event_time'))) \\\n",
    "        .withColumn('hour', hour(col('event_time'))) \\\n",
    "        .withColumn('type', lit('store_name')) \\\n",
    "        .withColumn('value', col('store_name')) \\\n",
    "        .groupby('campaign_id', 'date', 'hour', 'type', 'value') \\\n",
    "        .agg(\n",
    "            create_map(\n",
    "                lit('impression'), count(when (col('event_type') == 'impression', True)),\n",
    "                lit('video ad'), count(when (col('event_type') == 'video ad', True)),\n",
    "                lit('click'), count(when (col('event_type') == 'click', True))\n",
    "        ).alias('event')\n",
    ")                                 "
   ]
  },
  {
   "cell_type": "code",
   "execution_count": 227,
   "id": "ddd9575b-eb51-4697-b8fb-13f1f37da8b3",
   "metadata": {},
   "outputs": [
    {
     "name": "stdout",
     "output_type": "stream",
     "text": [
      "+-----------+----------+----+----------+-------------+--------------------------------------------+\n",
      "|campaign_id|date      |hour|type      |value        |event                                       |\n",
      "+-----------+----------+----+----------+-------------+--------------------------------------------+\n",
      "|ABCDFAE    |2018-10-12|13  |store_name|BurgerKing   |{impression -> 1, video ad -> 0, click -> 1}|\n",
      "|ABCDFAE    |2018-10-12|13  |store_name|shoppers stop|{impression -> 0, video ad -> 1, click -> 0}|\n",
      "|ABCDFAE    |2018-10-12|13  |store_name|McDonald     |{impression -> 2, video ad -> 0, click -> 1}|\n",
      "+-----------+----------+----+----------+-------------+--------------------------------------------+\n",
      "\n"
     ]
    }
   ],
   "source": [
    "joined_df.show(truncate=False)"
   ]
  },
  {
   "cell_type": "code",
   "execution_count": 228,
   "id": "f160c460-67fe-455a-b2d6-0b4700c06025",
   "metadata": {},
   "outputs": [
    {
     "name": "stdout",
     "output_type": "stream",
     "text": [
      "Write Successfull\n"
     ]
    }
   ],
   "source": [
    "# writing output data to hdfs \n",
    "joined_df.write.format('json').option('multiline', 'true').save('/output_data/store_campaigns')\n",
    "print('Write Successfull')"
   ]
  },
  {
   "cell_type": "markdown",
   "id": "b9f2a615-0794-438a-aba2-04bbb0afe56a",
   "metadata": {},
   "source": [
    "#### Q3.Analyse data for each campaign_id, date, hour, gender_type & value to get all the events with counts"
   ]
  },
  {
   "cell_type": "code",
   "execution_count": 244,
   "id": "609c11f1-8dea-4a81-a297-5dd7033bd25a",
   "metadata": {},
   "outputs": [],
   "source": [
    "combined_df = ad_campaigns_df.alias('ad').join(users_profile_df.alias('users'), (col('ad.campaign_country') == col('users.country')) & (col('ad.user_id') == col('users.user_id')), 'inner') \\\n",
    "        .withColumn('date', to_date(col('event_time'))) \\\n",
    "        .withColumn('hour', hour(col('event_time'))) \\\n",
    "        .withColumn('type', lit('gender')) \\\n",
    "        .withColumn('value', col('gender')) \\\n",
    "        .groupby('campaign_id', 'date', 'hour', 'type', 'value') \\\n",
    "        .agg(\n",
    "            create_map(\n",
    "                lit('impression'), count(when (col('event_type') == 'impression', True)),\n",
    "                lit('click'), count(when (col('event_type') == 'click', True)),\n",
    "                lit('video ad'), count(when (col('event_type') == 'video ad', True))\n",
    "            ).alias('event')\n",
    ")"
   ]
  },
  {
   "cell_type": "code",
   "execution_count": 245,
   "id": "f5ecb502-99bb-4578-af63-92360053facc",
   "metadata": {},
   "outputs": [
    {
     "name": "stdout",
     "output_type": "stream",
     "text": [
      "+-----------+----------+----+------+------+--------------------------------------------+\n",
      "|campaign_id|date      |hour|type  |value |event                                       |\n",
      "+-----------+----------+----+------+------+--------------------------------------------+\n",
      "|ABCDFAE    |2018-10-12|13  |gender|male  |{impression -> 1, click -> 1, video ad -> 1}|\n",
      "|ABCDFAE    |2018-10-12|13  |gender|female|{impression -> 1, click -> 0, video ad -> 0}|\n",
      "+-----------+----------+----+------+------+--------------------------------------------+\n",
      "\n"
     ]
    }
   ],
   "source": [
    "combined_df.show(truncate=False)"
   ]
  },
  {
   "cell_type": "code",
   "execution_count": 246,
   "id": "462a613b-a725-471b-835d-de85528f0440",
   "metadata": {},
   "outputs": [
    {
     "name": "stdout",
     "output_type": "stream",
     "text": [
      "Write Successfull\n"
     ]
    }
   ],
   "source": [
    "# writing output data to hdfs \n",
    "combined_df.write.format('json').option('multiline', 'true').save('/output_data/user_campaigns')\n",
    "print('Write Successfull')"
   ]
  },
  {
   "cell_type": "code",
   "execution_count": null,
   "id": "0adab10e-d11d-4378-82be-32bee1d286bb",
   "metadata": {},
   "outputs": [],
   "source": []
  },
  {
   "cell_type": "code",
   "execution_count": null,
   "id": "f7d0ae3d-8df2-48f3-b41e-4bcae57624ab",
   "metadata": {},
   "outputs": [],
   "source": []
  },
  {
   "cell_type": "code",
   "execution_count": null,
   "id": "b089614b-d934-4c16-9b2f-13acb098a5e9",
   "metadata": {},
   "outputs": [],
   "source": []
  }
 ],
 "metadata": {
  "kernelspec": {
   "display_name": "Python 3 (ipykernel)",
   "language": "python",
   "name": "python3"
  },
  "language_info": {
   "codemirror_mode": {
    "name": "ipython",
    "version": 3
   },
   "file_extension": ".py",
   "mimetype": "text/x-python",
   "name": "python",
   "nbconvert_exporter": "python",
   "pygments_lexer": "ipython3",
   "version": "3.10.9"
  }
 },
 "nbformat": 4,
 "nbformat_minor": 5
}
